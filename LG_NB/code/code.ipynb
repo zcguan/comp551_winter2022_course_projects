{
  "cells": [
    {
      "cell_type": "code",
      "execution_count": null,
      "metadata": {
        "colab": {
          "base_uri": "https://localhost:8080/"
        },
        "id": "l4UBxVAbbj7H",
        "outputId": "d2222214-9373-48c3-e872-aaa6599cdefa"
      },
      "outputs": [
        {
          "output_type": "stream",
          "name": "stdout",
          "text": [
            "[nltk_data] Downloading package punkt to /root/nltk_data...\n",
            "[nltk_data]   Package punkt is already up-to-date!\n",
            "[nltk_data] Downloading package wordnet to /root/nltk_data...\n",
            "[nltk_data]   Package wordnet is already up-to-date!\n",
            "[nltk_data] Downloading package words to /root/nltk_data...\n",
            "[nltk_data]   Package words is already up-to-date!\n"
          ]
        }
      ],
      "source": [
        "#!pip install wget\n",
        "#!pip install nltk\n",
        "#!pip install sklearn\n",
        "import wget, zipfile\n",
        "import nltk\n",
        "nltk.download('punkt')\n",
        "nltk.download('wordnet')\n",
        "nltk.download('words')\n",
        "from nltk.corpus import words as ws\n",
        "import pandas as pd\n",
        "import numpy as np\n",
        "import string\n",
        "import matplotlib.pyplot as plt\n",
        "import seaborn as sn\n",
        "from sklearn.feature_extraction.text import CountVectorizer, TfidfTransformer, TfidfVectorizer\n",
        "from sklearn.linear_model import LogisticRegression\n",
        "from sklearn.pipeline import Pipeline\n",
        "from sklearn.model_selection import ParameterGrid\n",
        "from sklearn.metrics import confusion_matrix\n",
        "from nltk.corpus import stopwords\n",
        "from nltk import word_tokenize\n",
        "from nltk.stem import WordNetLemmatizer, SnowballStemmer\n",
        "import os.path as osp\n",
        "from tqdm import tqdm\n",
        "from joblib import Parallel, delayed\n",
        "import re"
      ]
    },
    {
      "cell_type": "markdown",
      "metadata": {
        "id": "M1vIA0jOc3Aw"
      },
      "source": [
        "#Utility"
      ]
    },
    {
      "cell_type": "code",
      "execution_count": null,
      "metadata": {
        "id": "M-8tl0u_c2yf"
      },
      "outputs": [],
      "source": [
        "\"\"\"\n",
        "def train_test_split(x, y, s, seed = None):\n",
        "  N = x.shape[0]\n",
        "  n = int(N*s)\n",
        "\n",
        "  inds = np.random.RandomState(seed).permutation(N)\n",
        "\n",
        "  return x[inds[:n]], y[inds[:n]], x[inds[n:]], y[inds[n:]]\n",
        "\"\"\"\n",
        "def cross_validation_split(n, k, seed=None):\n",
        "    inds = np.random.RandomState(seed).permutation(n)\n",
        "    for i in range(k):\n",
        "      start = i * n//k\n",
        "      end = (i+1) * n//k\n",
        "      ivalidation = inds[start:end]\n",
        "      itrain = np.concatenate((inds[:start], inds[end:]), axis=0)\n",
        "\n",
        "      yield itrain, ivalidation\n",
        "\n",
        "def kfoldCV_mod(model, data, labels, cv, vec, seed = None):\n",
        "  n = data.shape[0]\n",
        " \n",
        "  acc = []\n",
        "  \n",
        "  for itrain, ival in cross_validation_split(n,cv,seed):\n",
        "    y_pred = np.array([])\n",
        "    valsize = len(ival)\n",
        "    splitindices = np.arange(0,valsize,100)\n",
        "    splitindices = np.append(splitindices,None)\n",
        "\n",
        "    x_train = vec.fit_transform(data[itrain]).toarray()\n",
        "    x_val = vec.transform(data[ival]).toarray()\n",
        "    \n",
        "    for i,ind in enumerate(splitindices[:-1]):\n",
        "      y_pred = np.append(y_pred, model.fit(x_train, labels[itrain]).predict(x_val[ind:splitindices[i+1]]))\n",
        "\n",
        "    scores = evaluate_acc(labels[ival], y_pred)\n",
        "    acc.append(scores)\n",
        "  return np.mean(acc)\n",
        "\n",
        "#original kfoldCV\n",
        "def kfoldCV(model,data,labels,cv,seed = None):\n",
        "  n = data.shape[0]\n",
        "  acc = []\n",
        "  for itrain,ival in cross_validation_split(n,cv,seed):\n",
        "    y_pred = model.fit(data[itrain],labels[itrain]).predict(data[ival])\n",
        "\n",
        "    scores = evaluate_acc(labels[ival], y_pred)\n",
        "    acc.append(scores)\n",
        "  return np.mean(acc)\n",
        "\n",
        "\n",
        "#accuracy = TP+TN/(P+N)\n",
        "#precision = TP/RP\n",
        "#recall = TP/P\n",
        "def evaluate_acc(y_true, y_pred):\n",
        "  correct = np.equal(y_true,y_pred) #TP+TN\n",
        "  #RP = (y_pred == max(y_true)) \n",
        "\n",
        "  #TP = correct*RP\n",
        "  #P = (y_true == max(y_true))\n",
        "  \n",
        "  acc = np.sum(correct)/len(y_true)\n",
        "  #prec = sum(TP)/sum(RP)\n",
        "  #recall = sum(TP)/sum(P)\n",
        "  #F1 = 2*(prec*recall)/(prec+recall)\n",
        "\n",
        "  return (acc)#,prec,recall,F1)"
      ]
    },
    {
      "cell_type": "markdown",
      "metadata": {
        "id": "7lS-YzEfgoon"
      },
      "source": [
        "#Get data"
      ]
    },
    {
      "cell_type": "code",
      "execution_count": null,
      "metadata": {
        "id": "BGxJlegQgoQ2"
      },
      "outputs": [],
      "source": [
        "#getting Sentiment 140 data\n",
        "sentiment140 = 'trainingandtestdata.zip' if osp.isfile('trainingandtestdata.zip') else wget.download(\"http://cs.stanford.edu/people/alecmgo/trainingandtestdata.zip\")\n",
        "testcsv = 'testdata.manual.2009.06.14.csv'\n",
        "traincsv = 'training.1600000.processed.noemoticon.csv'\n",
        "if not (osp.isfile(testcsv) and osp.isfile(traincsv)):\n",
        "  with zipfile.ZipFile(sentiment140, 'r') as zipObj:\n",
        "    zipObj.extractall()\n",
        "testdf = pd.read_csv(testcsv, encoding='latin-1', header=None, usecols=[0,5])\n",
        "traindf = pd.read_csv(traincsv, encoding='latin-1', header=None, usecols=[0,5])\n",
        "colnames = ['class', 'text']\n",
        "testdf.columns = colnames\n",
        "traindf.columns = colnames"
      ]
    },
    {
      "cell_type": "code",
      "execution_count": null,
      "metadata": {
        "id": "r1c578rB42v-"
      },
      "outputs": [],
      "source": [
        "traindf.loc[(traindf['class'] == 4),'class'] = 1\n",
        "testdf.loc[(testdf['class'] == 4),'class'] = 1"
      ]
    },
    {
      "cell_type": "code",
      "execution_count": null,
      "metadata": {
        "colab": {
          "base_uri": "https://localhost:8080/"
        },
        "id": "7IAhlRfmr4vT",
        "outputId": "49459b6d-4a3f-44c7-bdc5-d407f6ae4cce"
      },
      "outputs": [
        {
          "output_type": "stream",
          "name": "stdout",
          "text": [
            "     class                                               text\n",
            "0        1  @stellargirl I loooooooovvvvvveee my Kindle2. ...\n",
            "1        1  Reading my kindle2...  Love it... Lee childs i...\n",
            "2        1  Ok, first assesment of the #kindle2 ...it fuck...\n",
            "3        1  @kenburbary You'll love your Kindle2. I've had...\n",
            "4        1  @mikefish  Fair enough. But i have the Kindle2...\n",
            "..     ...                                                ...\n",
            "492      1  After using LaTeX a lot, any other typeset mat...\n",
            "494      0  On that note, I hate Word. I hate Pages. I hat...\n",
            "495      1  Ahhh... back in a *real* text editing environm...\n",
            "496      0  Trouble in Iran, I see. Hmm. Iran. Iran so far...\n",
            "497      0  Reading the tweets coming out of Iran... The w...\n",
            "\n",
            "[359 rows x 2 columns]\n"
          ]
        }
      ],
      "source": [
        "testdf = testdf[testdf['class']!=2]\n",
        "print(testdf)"
      ]
    },
    {
      "cell_type": "code",
      "source": [
        "traindf['class'].hist()"
      ],
      "metadata": {
        "colab": {
          "base_uri": "https://localhost:8080/",
          "height": 282
        },
        "id": "PyZUxe2VxDMD",
        "outputId": "aed10143-8d8d-47d3-9d61-f4cb19057d5c"
      },
      "execution_count": null,
      "outputs": [
        {
          "output_type": "execute_result",
          "data": {
            "text/plain": [
              "<matplotlib.axes._subplots.AxesSubplot at 0x7fcc2469ff50>"
            ]
          },
          "metadata": {},
          "execution_count": 9
        },
        {
          "output_type": "display_data",
          "data": {
            "image/png": "[encoded data removed]",
            "text/plain": [
              "<Figure size 432x288 with 1 Axes>"
            ]
          },
          "metadata": {
            "needs_background": "light"
          }
        }
      ]
    },
    {
      "cell_type": "code",
      "execution_count": null,
      "metadata": {
        "id": "eBKZ2T_tcG6f"
      },
      "outputs": [],
      "source": [
        "#getting 20 newsgroups\n",
        "from sklearn.datasets import fetch_20newsgroups\n",
        "x_twenty_train, y_twenty_train = fetch_20newsgroups(subset='train', remove=['headers','footers','quotes'], return_X_y=True)\n",
        "x_twenty_test, y_twenty_test = fetch_20newsgroups(subset='test', remove=['headers','footers','quotes'], return_X_y=True)"
      ]
    },
    {
      "cell_type": "code",
      "execution_count": null,
      "metadata": {
        "id": "opdTT9bIgkKK",
        "colab": {
          "base_uri": "https://localhost:8080/",
          "height": 316
        },
        "outputId": "4798f1a5-7af1-4763-f8f4-6d636b224905"
      },
      "outputs": [
        {
          "output_type": "execute_result",
          "data": {
            "text/plain": [
              "array([[<matplotlib.axes._subplots.AxesSubplot object at 0x7fcc16ad4ad0>]],\n",
              "      dtype=object)"
            ]
          },
          "metadata": {},
          "execution_count": 11
        },
        {
          "output_type": "display_data",
          "data": {
            "image/png": "[encoded data removed]",
            "text/plain": [
              "<Figure size 432x288 with 1 Axes>"
            ]
          },
          "metadata": {
            "needs_background": "light"
          }
        }
      ],
      "source": [
        "train_class_df = pd.DataFrame(y_twenty_train)\n",
        "train_class_df.columns = ['class']\n",
        "train_class_df.hist()"
      ]
    },
    {
      "cell_type": "markdown",
      "metadata": {
        "id": "JZ_14Yl9q1a7"
      },
      "source": [
        "#Preprocessing"
      ]
    },
    {
      "cell_type": "code",
      "source": [
        "rstate = np.random.RandomState(1234)\n",
        "traindf = traindf.sample(n=10000, random_state = rstate)"
      ],
      "metadata": {
        "id": "Nqe8eFsEOrVj"
      },
      "execution_count": null,
      "outputs": []
    },
    {
      "cell_type": "code",
      "source": [
        "traindf['class'].hist()"
      ],
      "metadata": {
        "colab": {
          "base_uri": "https://localhost:8080/",
          "height": 282
        },
        "id": "TtumgIcsT_2q",
        "outputId": "ce6cf892-64d0-461d-b5e4-3d02afcd86f8"
      },
      "execution_count": null,
      "outputs": [
        {
          "output_type": "execute_result",
          "data": {
            "text/plain": [
              "<matplotlib.axes._subplots.AxesSubplot at 0x7fcc174f0090>"
            ]
          },
          "metadata": {},
          "execution_count": 13
        },
        {
          "output_type": "display_data",
          "data": {
            "image/png": "[encoded data removed]",
            "text/plain": [
              "<Figure size 432x288 with 1 Axes>"
            ]
          },
          "metadata": {
            "needs_background": "light"
          }
        }
      ]
    },
    {
      "cell_type": "code",
      "execution_count": null,
      "metadata": {
        "id": "jBrV8Gz3j-6p"
      },
      "outputs": [],
      "source": [
        "# remove emails and headers\n",
        "for i in range(len(x_twenty_train)):\n",
        "  x_twenty_train[i] = x_twenty_train[i].replace('\\n',' ')\n",
        "  x_twenty_train[i] = re.sub(r'\\W+',' ', x_twenty_train[i])\n",
        "  x_twenty_train[i] = re.sub(r'\\S*@\\S*','', x_twenty_train[i]).replace('From article  by','')\n",
        "for i in range(len(x_twenty_test)):\n",
        "  x_twenty_test[i] = x_twenty_test[i].replace('\\n',' ')\n",
        "  x_twenty_test[i] = re.sub(r'\\W+',' ', x_twenty_test[i])\n",
        "  x_twenty_test[i] = re.sub(r'\\S*@\\S*','', x_twenty_test[i]).replace('From article  by','')"
      ]
    },
    {
      "cell_type": "code",
      "source": [
        "# remove @, # and links\n",
        "traindf['text'] = [t.replace(r'\\n',' ').replace(r'#','') for t in traindf['text']]\n",
        "traindf['text'] = [re.sub(r'@\\S*', '', t) for t in traindf['text']]\n",
        "traindf['text'] = [re.sub(r'http\\S*', '', t) for t in traindf['text']]\n",
        "testdf['text'] = [t.replace(r'\\n',' ').replace(r'#','') for t in testdf['text']]\n",
        "testdf['text'] = [re.sub(r'@\\S*', '', t) for t in testdf['text']]\n",
        "testdf['text'] = [re.sub(r'http\\S*', '', t) for t in testdf['text']]"
      ],
      "metadata": {
        "id": "b9999CVcsAy-"
      },
      "execution_count": null,
      "outputs": []
    },
    {
      "cell_type": "code",
      "execution_count": null,
      "metadata": {
        "id": "tVBXGCtHrNrj"
      },
      "outputs": [],
      "source": [
        "from sklearn.feature_extraction import text\n",
        "stop_words = text.ENGLISH_STOP_WORDS\n",
        "def stemTokenizer(s):\n",
        "  stemmer = SnowballStemmer('english')\n",
        "  words = [stemmer.stem(w) for w in word_tokenize(s) if w not in stop_words]\n",
        "  return words\n",
        "\n",
        "def lemmaTokenizer(s):\n",
        "  lemmatizer = WordNetLemmatizer()\n",
        "  words = [lemmatizer.lemmatize(w) for w in word_tokenize(s) if w not in stop_words]\n",
        "  return words\n",
        "\n",
        "vect = CountVectorizer()\n",
        "swvect = CountVectorizer(stop_words='english')\n",
        "stemvect = CountVectorizer(tokenizer=stemTokenizer)\n",
        "lemmavect = CountVectorizer(tokenizer=lemmaTokenizer)\n",
        "vects = [vect,swvect,stemvect,lemmavect]"
      ]
    },
    {
      "cell_type": "markdown",
      "metadata": {
        "id": "vDLfxs2rrXNc"
      },
      "source": [
        "#Logistic Regression"
      ]
    },
    {
      "cell_type": "code",
      "execution_count": null,
      "metadata": {
        "id": "UWGMgMTcUBpb",
        "colab": {
          "base_uri": "https://localhost:8080/"
        },
        "outputId": "1840325d-a4b5-4de2-d51a-74b544bd7a7d"
      },
      "outputs": [
        {
          "output_type": "stream",
          "name": "stderr",
          "text": [
            "/usr/local/lib/python3.7/dist-packages/sklearn/linear_model/_logistic.py:818: ConvergenceWarning: lbfgs failed to converge (status=1):\n",
            "STOP: TOTAL NO. of ITERATIONS REACHED LIMIT.\n",
            "\n",
            "Increase the number of iterations (max_iter) or scale the data as shown in:\n",
            "    https://scikit-learn.org/stable/modules/preprocessing.html\n",
            "Please also refer to the documentation for alternative solver options:\n",
            "    https://scikit-learn.org/stable/modules/linear_model.html#logistic-regression\n",
            "  extra_warning_msg=_LOGISTIC_SOLVER_CONVERGENCE_MSG,\n",
            "/usr/local/lib/python3.7/dist-packages/sklearn/linear_model/_logistic.py:818: ConvergenceWarning: lbfgs failed to converge (status=1):\n",
            "STOP: TOTAL NO. of ITERATIONS REACHED LIMIT.\n",
            "\n",
            "Increase the number of iterations (max_iter) or scale the data as shown in:\n",
            "    https://scikit-learn.org/stable/modules/preprocessing.html\n",
            "Please also refer to the documentation for alternative solver options:\n",
            "    https://scikit-learn.org/stable/modules/linear_model.html#logistic-regression\n",
            "  extra_warning_msg=_LOGISTIC_SOLVER_CONVERGENCE_MSG,\n",
            "/usr/local/lib/python3.7/dist-packages/sklearn/linear_model/_logistic.py:818: ConvergenceWarning: lbfgs failed to converge (status=1):\n",
            "STOP: TOTAL NO. of ITERATIONS REACHED LIMIT.\n",
            "\n",
            "Increase the number of iterations (max_iter) or scale the data as shown in:\n",
            "    https://scikit-learn.org/stable/modules/preprocessing.html\n",
            "Please also refer to the documentation for alternative solver options:\n",
            "    https://scikit-learn.org/stable/modules/linear_model.html#logistic-regression\n",
            "  extra_warning_msg=_LOGISTIC_SOLVER_CONVERGENCE_MSG,\n",
            "/usr/local/lib/python3.7/dist-packages/sklearn/linear_model/_logistic.py:818: ConvergenceWarning: lbfgs failed to converge (status=1):\n",
            "STOP: TOTAL NO. of ITERATIONS REACHED LIMIT.\n",
            "\n",
            "Increase the number of iterations (max_iter) or scale the data as shown in:\n",
            "    https://scikit-learn.org/stable/modules/preprocessing.html\n",
            "Please also refer to the documentation for alternative solver options:\n",
            "    https://scikit-learn.org/stable/modules/linear_model.html#logistic-regression\n",
            "  extra_warning_msg=_LOGISTIC_SOLVER_CONVERGENCE_MSG,\n",
            "/usr/local/lib/python3.7/dist-packages/sklearn/linear_model/_logistic.py:818: ConvergenceWarning: lbfgs failed to converge (status=1):\n",
            "STOP: TOTAL NO. of ITERATIONS REACHED LIMIT.\n",
            "\n",
            "Increase the number of iterations (max_iter) or scale the data as shown in:\n",
            "    https://scikit-learn.org/stable/modules/preprocessing.html\n",
            "Please also refer to the documentation for alternative solver options:\n",
            "    https://scikit-learn.org/stable/modules/linear_model.html#logistic-regression\n",
            "  extra_warning_msg=_LOGISTIC_SOLVER_CONVERGENCE_MSG,\n",
            "/usr/local/lib/python3.7/dist-packages/sklearn/linear_model/_logistic.py:818: ConvergenceWarning: lbfgs failed to converge (status=1):\n",
            "STOP: TOTAL NO. of ITERATIONS REACHED LIMIT.\n",
            "\n",
            "Increase the number of iterations (max_iter) or scale the data as shown in:\n",
            "    https://scikit-learn.org/stable/modules/preprocessing.html\n",
            "Please also refer to the documentation for alternative solver options:\n",
            "    https://scikit-learn.org/stable/modules/linear_model.html#logistic-regression\n",
            "  extra_warning_msg=_LOGISTIC_SOLVER_CONVERGENCE_MSG,\n",
            "/usr/local/lib/python3.7/dist-packages/sklearn/linear_model/_logistic.py:818: ConvergenceWarning: lbfgs failed to converge (status=1):\n",
            "STOP: TOTAL NO. of ITERATIONS REACHED LIMIT.\n",
            "\n",
            "Increase the number of iterations (max_iter) or scale the data as shown in:\n",
            "    https://scikit-learn.org/stable/modules/preprocessing.html\n",
            "Please also refer to the documentation for alternative solver options:\n",
            "    https://scikit-learn.org/stable/modules/linear_model.html#logistic-regression\n",
            "  extra_warning_msg=_LOGISTIC_SOLVER_CONVERGENCE_MSG,\n",
            "/usr/local/lib/python3.7/dist-packages/sklearn/linear_model/_logistic.py:818: ConvergenceWarning: lbfgs failed to converge (status=1):\n",
            "STOP: TOTAL NO. of ITERATIONS REACHED LIMIT.\n",
            "\n",
            "Increase the number of iterations (max_iter) or scale the data as shown in:\n",
            "    https://scikit-learn.org/stable/modules/preprocessing.html\n",
            "Please also refer to the documentation for alternative solver options:\n",
            "    https://scikit-learn.org/stable/modules/linear_model.html#logistic-regression\n",
            "  extra_warning_msg=_LOGISTIC_SOLVER_CONVERGENCE_MSG,\n",
            "/usr/local/lib/python3.7/dist-packages/sklearn/linear_model/_logistic.py:818: ConvergenceWarning: lbfgs failed to converge (status=1):\n",
            "STOP: TOTAL NO. of ITERATIONS REACHED LIMIT.\n",
            "\n",
            "Increase the number of iterations (max_iter) or scale the data as shown in:\n",
            "    https://scikit-learn.org/stable/modules/preprocessing.html\n",
            "Please also refer to the documentation for alternative solver options:\n",
            "    https://scikit-learn.org/stable/modules/linear_model.html#logistic-regression\n",
            "  extra_warning_msg=_LOGISTIC_SOLVER_CONVERGENCE_MSG,\n",
            "/usr/local/lib/python3.7/dist-packages/sklearn/linear_model/_logistic.py:818: ConvergenceWarning: lbfgs failed to converge (status=1):\n",
            "STOP: TOTAL NO. of ITERATIONS REACHED LIMIT.\n",
            "\n",
            "Increase the number of iterations (max_iter) or scale the data as shown in:\n",
            "    https://scikit-learn.org/stable/modules/preprocessing.html\n",
            "Please also refer to the documentation for alternative solver options:\n",
            "    https://scikit-learn.org/stable/modules/linear_model.html#logistic-regression\n",
            "  extra_warning_msg=_LOGISTIC_SOLVER_CONVERGENCE_MSG,\n",
            "/usr/local/lib/python3.7/dist-packages/sklearn/linear_model/_logistic.py:818: ConvergenceWarning: lbfgs failed to converge (status=1):\n",
            "STOP: TOTAL NO. of ITERATIONS REACHED LIMIT.\n",
            "\n",
            "Increase the number of iterations (max_iter) or scale the data as shown in:\n",
            "    https://scikit-learn.org/stable/modules/preprocessing.html\n",
            "Please also refer to the documentation for alternative solver options:\n",
            "    https://scikit-learn.org/stable/modules/linear_model.html#logistic-regression\n",
            "  extra_warning_msg=_LOGISTIC_SOLVER_CONVERGENCE_MSG,\n",
            "/usr/local/lib/python3.7/dist-packages/sklearn/linear_model/_logistic.py:818: ConvergenceWarning: lbfgs failed to converge (status=1):\n",
            "STOP: TOTAL NO. of ITERATIONS REACHED LIMIT.\n",
            "\n",
            "Increase the number of iterations (max_iter) or scale the data as shown in:\n",
            "    https://scikit-learn.org/stable/modules/preprocessing.html\n",
            "Please also refer to the documentation for alternative solver options:\n",
            "    https://scikit-learn.org/stable/modules/linear_model.html#logistic-regression\n",
            "  extra_warning_msg=_LOGISTIC_SOLVER_CONVERGENCE_MSG,\n",
            "/usr/local/lib/python3.7/dist-packages/sklearn/linear_model/_logistic.py:818: ConvergenceWarning: lbfgs failed to converge (status=1):\n",
            "STOP: TOTAL NO. of ITERATIONS REACHED LIMIT.\n",
            "\n",
            "Increase the number of iterations (max_iter) or scale the data as shown in:\n",
            "    https://scikit-learn.org/stable/modules/preprocessing.html\n",
            "Please also refer to the documentation for alternative solver options:\n",
            "    https://scikit-learn.org/stable/modules/linear_model.html#logistic-regression\n",
            "  extra_warning_msg=_LOGISTIC_SOLVER_CONVERGENCE_MSG,\n",
            "/usr/local/lib/python3.7/dist-packages/sklearn/linear_model/_logistic.py:818: ConvergenceWarning: lbfgs failed to converge (status=1):\n",
            "STOP: TOTAL NO. of ITERATIONS REACHED LIMIT.\n",
            "\n",
            "Increase the number of iterations (max_iter) or scale the data as shown in:\n",
            "    https://scikit-learn.org/stable/modules/preprocessing.html\n",
            "Please also refer to the documentation for alternative solver options:\n",
            "    https://scikit-learn.org/stable/modules/linear_model.html#logistic-regression\n",
            "  extra_warning_msg=_LOGISTIC_SOLVER_CONVERGENCE_MSG,\n",
            "/usr/local/lib/python3.7/dist-packages/sklearn/linear_model/_logistic.py:818: ConvergenceWarning: lbfgs failed to converge (status=1):\n",
            "STOP: TOTAL NO. of ITERATIONS REACHED LIMIT.\n",
            "\n",
            "Increase the number of iterations (max_iter) or scale the data as shown in:\n",
            "    https://scikit-learn.org/stable/modules/preprocessing.html\n",
            "Please also refer to the documentation for alternative solver options:\n",
            "    https://scikit-learn.org/stable/modules/linear_model.html#logistic-regression\n",
            "  extra_warning_msg=_LOGISTIC_SOLVER_CONVERGENCE_MSG,\n",
            "/usr/local/lib/python3.7/dist-packages/sklearn/linear_model/_logistic.py:818: ConvergenceWarning: lbfgs failed to converge (status=1):\n",
            "STOP: TOTAL NO. of ITERATIONS REACHED LIMIT.\n",
            "\n",
            "Increase the number of iterations (max_iter) or scale the data as shown in:\n",
            "    https://scikit-learn.org/stable/modules/preprocessing.html\n",
            "Please also refer to the documentation for alternative solver options:\n",
            "    https://scikit-learn.org/stable/modules/linear_model.html#logistic-regression\n",
            "  extra_warning_msg=_LOGISTIC_SOLVER_CONVERGENCE_MSG,\n",
            "/usr/local/lib/python3.7/dist-packages/sklearn/linear_model/_logistic.py:818: ConvergenceWarning: lbfgs failed to converge (status=1):\n",
            "STOP: TOTAL NO. of ITERATIONS REACHED LIMIT.\n",
            "\n",
            "Increase the number of iterations (max_iter) or scale the data as shown in:\n",
            "    https://scikit-learn.org/stable/modules/preprocessing.html\n",
            "Please also refer to the documentation for alternative solver options:\n",
            "    https://scikit-learn.org/stable/modules/linear_model.html#logistic-regression\n",
            "  extra_warning_msg=_LOGISTIC_SOLVER_CONVERGENCE_MSG,\n",
            "/usr/local/lib/python3.7/dist-packages/sklearn/linear_model/_logistic.py:818: ConvergenceWarning: lbfgs failed to converge (status=1):\n",
            "STOP: TOTAL NO. of ITERATIONS REACHED LIMIT.\n",
            "\n",
            "Increase the number of iterations (max_iter) or scale the data as shown in:\n",
            "    https://scikit-learn.org/stable/modules/preprocessing.html\n",
            "Please also refer to the documentation for alternative solver options:\n",
            "    https://scikit-learn.org/stable/modules/linear_model.html#logistic-regression\n",
            "  extra_warning_msg=_LOGISTIC_SOLVER_CONVERGENCE_MSG,\n",
            "/usr/local/lib/python3.7/dist-packages/sklearn/linear_model/_logistic.py:818: ConvergenceWarning: lbfgs failed to converge (status=1):\n",
            "STOP: TOTAL NO. of ITERATIONS REACHED LIMIT.\n",
            "\n",
            "Increase the number of iterations (max_iter) or scale the data as shown in:\n",
            "    https://scikit-learn.org/stable/modules/preprocessing.html\n",
            "Please also refer to the documentation for alternative solver options:\n",
            "    https://scikit-learn.org/stable/modules/linear_model.html#logistic-regression\n",
            "  extra_warning_msg=_LOGISTIC_SOLVER_CONVERGENCE_MSG,\n",
            "/usr/local/lib/python3.7/dist-packages/sklearn/linear_model/_logistic.py:818: ConvergenceWarning: lbfgs failed to converge (status=1):\n",
            "STOP: TOTAL NO. of ITERATIONS REACHED LIMIT.\n",
            "\n",
            "Increase the number of iterations (max_iter) or scale the data as shown in:\n",
            "    https://scikit-learn.org/stable/modules/preprocessing.html\n",
            "Please also refer to the documentation for alternative solver options:\n",
            "    https://scikit-learn.org/stable/modules/linear_model.html#logistic-regression\n",
            "  extra_warning_msg=_LOGISTIC_SOLVER_CONVERGENCE_MSG,\n"
          ]
        },
        {
          "output_type": "stream",
          "name": "stdout",
          "text": [
            "best params: vectorizer: CountVectorizer(stop_words='english'), {'C': 10, 'solver': 'newton-cg'}\n",
            "validation acc: 0.7552597371391465\n"
          ]
        }
      ],
      "source": [
        "# 20news validation\n",
        "solvers = ['newton-cg', 'lbfgs', 'sag', 'saga']\n",
        "c_values = [10, 1.0, 0.1]\n",
        "grid = ParameterGrid(dict(solver=solvers, C=c_values))\n",
        "\n",
        "besti = 0\n",
        "best_params = {}\n",
        "max_acc = 0\n",
        "for i in range(len(vects)):\n",
        "  # with Parallel(n_jobs=-1) as parallel:\n",
        "  #   out = parallel(delayed(kfoldCV)(\n",
        "  #       Pipeline([\n",
        "  #         ('vect', vects[i]),\n",
        "  #         ('tfidf', TfidfTransformer()),\n",
        "  #         ('clf', LogisticRegression(multi_class = 'multinomial', random_state=999, **params)),\n",
        "  #       ]), np.array(x_twenty_train), np.array(y_twenty_train), 5, seed=9999\n",
        "  #   ) for params in grid)\n",
        "    \n",
        "  #   best_params_idx = np.argmax(out)\n",
        "  #   acc = out[best_params_idx]\n",
        "  #   if acc > max_acc:\n",
        "  #       besti = i\n",
        "  #       best_params = grid[best_params_idx]\n",
        "  #       max_acc = acc\n",
        "\n",
        "  for params in grid:\n",
        "    clf = Pipeline([\n",
        "          ('vect', vects[i]),\n",
        "          ('tfidf', TfidfTransformer()),\n",
        "          ('clf', LogisticRegression(multi_class = 'multinomial', random_state=999, **params)),\n",
        "        ])\n",
        "    acc = kfoldCV(clf, np.array(x_twenty_train), np.array(y_twenty_train), 5, seed=9999)\n",
        "    if acc > max_acc:\n",
        "        besti = i\n",
        "        best_params = params\n",
        "        max_acc = acc\n",
        "\n",
        "print(f'best params: vectorizer: {vects[besti]}, {best_params}\\nvalidation acc: {max_acc}')"
      ]
    },
    {
      "cell_type": "markdown",
      "metadata": {
        "id": "LlL76aBF38hV"
      },
      "source": [
        "final:\\\n",
        "best params: vectorizer: CountVectorizer(stop_words='english'), {'C': 10, 'solver': 'newton-cg'}\\\n",
        "validation acc: 0.7552597371391465"
      ]
    },
    {
      "cell_type": "code",
      "source": [
        "# test set\n",
        "clf = Pipeline([\n",
        "    ('vect', swvect),\n",
        "    ('tfidf', TfidfTransformer()),\n",
        "    ('clf', LogisticRegression(multi_class = 'multinomial', random_state=999, C=10, solver='newton-cg'))\n",
        "  ])\n",
        "ypred = clf.fit(x_twenty_train, y_twenty_train).predict(x_twenty_test)\n",
        "acc = evaluate_acc(y_twenty_test,ypred)\n",
        "acc"
      ],
      "metadata": {
        "colab": {
          "base_uri": "https://localhost:8080/"
        },
        "id": "DZf3MUuAtQl3",
        "outputId": "46f446cf-73f2-4be5-a55a-8001f58f7454"
      },
      "execution_count": null,
      "outputs": [
        {
          "output_type": "execute_result",
          "data": {
            "text/plain": [
              "0.6910515135422198"
            ]
          },
          "metadata": {},
          "execution_count": 31
        }
      ]
    },
    {
      "cell_type": "markdown",
      "source": [
        "test acc: 0.6910515135422198"
      ],
      "metadata": {
        "id": "QzrjUje9zcqd"
      }
    },
    {
      "cell_type": "code",
      "source": [
        "plt.figure(figsize=(12, 9))\n",
        "conf = confusion_matrix(y_twenty_test,ypred)\n",
        "hm = sn.heatmap(conf,annot=True)\n",
        "figure = hm.get_figure()    \n",
        "figure.savefig('confusion_logistic_20.png')"
      ],
      "metadata": {
        "colab": {
          "base_uri": "https://localhost:8080/",
          "height": 537
        },
        "id": "5aDV9uKUanR6",
        "outputId": "5c7ef68f-d22a-475e-c87b-c051b44a101c"
      },
      "execution_count": null,
      "outputs": [
        {
          "output_type": "display_data",
          "data": {
            "image/png": "[encoded data removed]",
            "text/plain": [
              "<Figure size 864x648 with 2 Axes>"
            ]
          },
          "metadata": {
            "needs_background": "light"
          }
        }
      ]
    },
    {
      "cell_type": "code",
      "source": [
        "# 140 validation\n",
        "solvers = ['newton-cg', 'sag', 'saga']\n",
        "c_values = [10, 1.0, 0.1]\n",
        "grid = ParameterGrid(dict(solver=solvers, C=c_values))\n",
        "\n",
        "tfidftf = TfidfTransformer()\n",
        "besti = 0\n",
        "best_params = {}\n",
        "max_acc = 0\n",
        "for i in range(len(vects)):\n",
        "  with Parallel(n_jobs=5) as parallel:\n",
        "    out = parallel(delayed(kfoldCV)(\n",
        "        Pipeline([\n",
        "          ('vect', vects[i]),\n",
        "          ('tfidf', TfidfTransformer()),\n",
        "          ('clf', LogisticRegression(multi_class = 'multinomial', random_state=999, **params)),\n",
        "        ]), traindf['text'].values, traindf['class'].values, 5, seed=9999) for params in grid)\n",
        "    \n",
        "    best_params_idx = np.argmax(out)\n",
        "    acc = out[best_params_idx]\n",
        "    if acc > max_acc:\n",
        "        besti = i\n",
        "        best_params = grid[best_params_idx]\n",
        "        max_acc = acc\n",
        "\n",
        "print(f'best params: vectorizer: {vects[besti]}, {best_params}\\nvalidation acc: {max_acc}')"
      ],
      "metadata": {
        "id": "H6jouC5aC92e",
        "colab": {
          "base_uri": "https://localhost:8080/"
        },
        "outputId": "e2c873c1-84a6-4af9-f463-2035d63aff35"
      },
      "execution_count": null,
      "outputs": [
        {
          "output_type": "stream",
          "name": "stdout",
          "text": [
            "best params: vectorizer: CountVectorizer(), {'solver': 'saga', 'C': 1.0}\n",
            "validation acc: 0.7464000000000001\n"
          ]
        }
      ]
    },
    {
      "cell_type": "markdown",
      "source": [
        "final:\\\n",
        "best params: vectorizer: CountVectorizer(), {'solver': 'saga', 'C': 1.0}\\\n",
        "validation acc: 0.7464000000000001"
      ],
      "metadata": {
        "id": "7PSd99blFzD_"
      }
    },
    {
      "cell_type": "code",
      "execution_count": null,
      "metadata": {
        "id": "T4c8iZEEmIDO",
        "colab": {
          "base_uri": "https://localhost:8080/"
        },
        "outputId": "d53a76ba-f68e-4505-93bf-5d49a9f8e82c"
      },
      "outputs": [
        {
          "output_type": "execute_result",
          "data": {
            "text/plain": [
              "0.7298050139275766"
            ]
          },
          "metadata": {},
          "execution_count": 29
        }
      ],
      "source": [
        "# test set\n",
        "clf = Pipeline([\n",
        "    ('vect', CountVectorizer()),\n",
        "    ('tfidf', TfidfTransformer()),\n",
        "    ('clf', LogisticRegression(multi_class = 'multinomial', random_state=999, C=1, solver='saga'))\n",
        "  ])\n",
        "ypred = clf.fit(traindf['text'], traindf['class']).predict(testdf['text'])\n",
        "acc = evaluate_acc(testdf['class'],ypred)\n",
        "acc"
      ]
    },
    {
      "cell_type": "markdown",
      "source": [
        "test acc: 0.7298050139275766"
      ],
      "metadata": {
        "id": "WrXMCQBG3bCu"
      }
    },
    {
      "cell_type": "code",
      "source": [
        "conf = confusion_matrix(testdf['class'],ypred)\n",
        "hm = sn.heatmap(conf,annot=True)\n",
        "figure = hm.get_figure()    \n",
        "figure.savefig('confusion_logistic_140.png')"
      ],
      "metadata": {
        "colab": {
          "base_uri": "https://localhost:8080/",
          "height": 265
        },
        "id": "Hmj0PYg_apsk",
        "outputId": "b1287f05-e056-4046-c3fc-0f5d33f2583e"
      },
      "execution_count": null,
      "outputs": [
        {
          "output_type": "display_data",
          "data": {
            "image/png": "[encoded data removed]",
            "text/plain": [
              "<Figure size 432x288 with 2 Axes>"
            ]
          },
          "metadata": {
            "needs_background": "light"
          }
        }
      ]
    },
    {
      "cell_type": "markdown",
      "metadata": {
        "id": "rPcpX0TqAYBX"
      },
      "source": [
        "# Naive Bayes"
      ]
    },
    {
      "cell_type": "markdown",
      "metadata": {
        "id": "PGmLTOFcmK35"
      },
      "source": [
        "## Multinomial"
      ]
    },
    {
      "cell_type": "code",
      "execution_count": null,
      "metadata": {
        "id": "c0VquldXC4PO"
      },
      "outputs": [],
      "source": [
        "class MultinomialNaiveBayes:\n",
        "    \n",
        "    def __init__(self, alpha=1):\n",
        "        self.alpha = alpha\n",
        "        return\n",
        "    \n",
        "    def fit(self, x, y):\n",
        "        n_texts, n_words = x.shape\n",
        "        self.C = np.max(y) + 1\n",
        "\n",
        "        Nc = np.zeros(self.C) #number of documents per class\n",
        "        theta = np.zeros((self.C,n_words))\n",
        "        for c in range(self.C):\n",
        "            x_c = x[y == c] #all documents with label c\n",
        "            Nc[c] = x_c.shape[0]\n",
        "            total_wc = np.sum(x_c) #total word count in all documents labelled c\n",
        "            theta[c] = np.sum(x_c, axis=0) #counts of each word in all documents labelled c\n",
        "            theta[c] += self.alpha #laplace smoothing\n",
        "            theta[c] /= total_wc + n_words * self.alpha #divided by total_wc with additive smoothing\n",
        "        \n",
        "        self.theta = theta #theta MLE\n",
        "        self.pi = (Nc+1)/(n_texts+self.C) #prior;copied from Gaussian\n",
        "        #print('Finished training.')\n",
        "        return self\n",
        "\n",
        "    def logsumexp(self, Z):                                                # dimension C x N\n",
        "        Zmax = np.max(Z,axis=0)[None,:]                              # max over C\n",
        "        log_sum_exp = Zmax + np.log(np.sum(np.exp(Z - Zmax), axis=0))\n",
        "        return log_sum_exp\n",
        "\n",
        "    def predict(self, xt):\n",
        "        Nt, D = xt.shape\n",
        "\n",
        "        log_prior = np.log(self.pi)[:, None]\n",
        "        \n",
        "        log_likelihood = np.log(self.theta[:,None,:]**xt[None,:,:])\n",
        "        # now we sum over the feature dimension to get a C x N matrix (this has the log-likelihood for each class-test point combination)\n",
        "        log_likelihood = np.sum(log_likelihood, axis=2)\n",
        "        # posterior calculation\n",
        "        log_posterior = log_prior + log_likelihood\n",
        "        posterior = np.exp(log_posterior - self.logsumexp(log_posterior))\n",
        "\n",
        "\n",
        "        return np.argmax(posterior.T, 1)\n",
        "\n",
        "    "
      ]
    },
    {
      "cell_type": "markdown",
      "metadata": {
        "id": "Lo7bVMaHF4fO"
      },
      "source": [
        "### Test (20 news groups)"
      ]
    },
    {
      "cell_type": "code",
      "execution_count": null,
      "metadata": {
        "id": "JP0zoHk-8VAk"
      },
      "outputs": [],
      "source": [
        "countvect = CountVectorizer(stop_words='english')\n",
        "xtrain = countvect.fit_transform(x_twenty_train)\n",
        "xtest = countvect.transform(x_twenty_test)"
      ]
    },
    {
      "cell_type": "code",
      "execution_count": null,
      "metadata": {
        "id": "jGxdclqeu_AM"
      },
      "outputs": [],
      "source": [
        "multiNB = MultinomialNaiveBayes()\n",
        "#splitting test sets due to memory issues\n",
        "y_pred = np.array([])\n",
        "testsize = xtest.shape[0]\n",
        "splitindices = np.arange(0,testsize,100)\n",
        "splitindices = np.append(splitindices,None)\n",
        "\n",
        "for i,ind in enumerate(splitindices[:-1]):\n",
        "  y_pred = np.append(y_pred, multiNB.fit(xtrain, np.array(y_twenty_train)).predict(xtest[ind:splitindices[i+1]]))\n"
      ]
    },
    {
      "cell_type": "code",
      "execution_count": null,
      "metadata": {
        "id": "vYBfUcRF8wdZ"
      },
      "outputs": [],
      "source": [
        "accuracy = np.sum(y_pred == y_twenty_test)/y_pred.shape[0]\n",
        "accuracy"
      ]
    },
    {
      "cell_type": "markdown",
      "metadata": {
        "id": "HJ6Dp_nPF-cg"
      },
      "source": [
        "### Test (140 sentiments)"
      ]
    },
    {
      "cell_type": "code",
      "execution_count": null,
      "metadata": {
        "id": "SiMrli5gGBkA"
      },
      "outputs": [],
      "source": [
        "countvect = CountVectorizer()\n",
        "xtrain = countvect.fit_transform(traindf['text']).toarray()\n",
        "xtest = countvect.transform(testdf['text']).toarray()"
      ]
    },
    {
      "cell_type": "code",
      "execution_count": null,
      "metadata": {
        "id": "wsJol42aGPrY"
      },
      "outputs": [],
      "source": [
        "multiNB = MultinomialNaiveBayes()\n",
        "y_pred = multiNB.fit(xtrain, np.array(traindf['class'])).predict(xtest)"
      ]
    },
    {
      "cell_type": "code",
      "execution_count": null,
      "metadata": {
        "id": "h6Zz6ZfuGZKx"
      },
      "outputs": [],
      "source": [
        "accuracy = np.sum(y_pred == testdf['class'])/y_pred.shape[0]\n",
        "accuracy"
      ]
    },
    {
      "cell_type": "markdown",
      "metadata": {
        "id": "odkkEfRjmN09"
      },
      "source": [
        "## Gaussian"
      ]
    },
    {
      "cell_type": "code",
      "source": [
        "class GaussianNaiveBayes:#copied from provided example code\n",
        "    \n",
        "    def __init__(self):\n",
        "        return\n",
        "    \n",
        "    def fit(self, x, y):\n",
        "        N, D = x.shape\n",
        "        C = np.max(y) + 1\n",
        "        self.C=C\n",
        "        # one parameter for each feature conditioned on each class\n",
        "        mu, sigma = np.zeros((C,D)), np.zeros((C,D))\n",
        "        Nc = np.zeros(C) # number of instances in class c\n",
        "        # for each class get the MLE for the mean and std\n",
        "        for c in range(C):\n",
        "            x_c = x[y == c]                           #slice all the elements from class c\n",
        "            Nc[c] = x_c.shape[0]                      #get number of elements of class c\n",
        "            mu[c,:] = x_c.mean(0)                  #mean of features of class c\n",
        "            sqr = x_c.copy()\n",
        "            sqr.data **= 2\n",
        "            sigma[c,:] = np.sqrt(sqr.mean(0) - np.square(x_c.mean(0)))               #std of features of class c\n",
        "            \n",
        "        self.mu = mu                                  # C x D\n",
        "        self.sigma = sigma + 1e-9                     # C x D\n",
        "        self.pi = (Nc+1)/(N+C)                        #Laplace smoothing (using alpha_c=1 for all c) you can derive using Dirichlet's distribution\n",
        "        return self\n",
        "\n",
        "    def logsumexp(self, Z):                                                # dimension C x N\n",
        "        Zmax = np.max(Z,axis=0)[None,:]                              # max over C\n",
        "        log_sum_exp = Zmax + np.log(np.sum(np.exp(Z - Zmax), axis=0))\n",
        "        return log_sum_exp\n",
        "\n",
        "    def predict(self, xt):\n",
        "        Nt, D = xt.shape\n",
        "        # for numerical stability we work in the log domain\n",
        "        # we add a dimension because this is added to the log-likelihood matrix \n",
        "        # that assigns a likelihood for each class (C) to each test point, and so it is C x N\n",
        "        log_posterior = []\n",
        "        for i in range(self.C):\n",
        "          log_prior = np.log(self.pi[i])\n",
        "          log_likelihood = -0.5 * np.sum(np.log(2.0 * np.pi * self.sigma[i, :]))\n",
        "          log_likelihood -= 0.5 * np.sum((np.asarray(xt - self.mu[i, :]) ** 2) / (self.sigma[i, :]), 1)\n",
        "          log_posterior.append(log_prior + log_likelihood)\n",
        "        # log_prior = np.log(self.pi)[:, None]\n",
        "        # logarithm of the likelihood term for Gaussian \n",
        "        # the first two terms are the logarithm of the normalization term in the Gaussian and the final term is the exponent in the Gaussian. \n",
        "        # Notice that we are adding dimensions (using None) to model parameters and data to make this evaluation. \n",
        "        # The reason is that sigma and mu are C x D, while the data x is N x D. We operate on a C x N x D shape by increasing the number of dimensions when needed\n",
        "        # log_likelihood = -.5 * np.log(2*np.pi) - np.log(self.sigma[:,None,:]) -.5 * (((xt[None,:,:] - self.mu[:,None,:])/self.sigma[:,None,:])**2)\n",
        "        # now we sum over the feature dimension to get a C x N matrix (this has the log-likelihood for each class-test point combination)\n",
        "        # log_likelihood = np.sum(log_likelihood, axis=2)\n",
        "        # posterior calculation\n",
        "        # log_posterior = log_prior + log_likelihood\n",
        "        posterior = np.exp(log_posterior - self.logsumexp(log_posterior))\n",
        "\n",
        "        return np.argmax(posterior.T, 1) "
      ],
      "metadata": {
        "id": "k9PGU75K6R3_"
      },
      "execution_count": null,
      "outputs": []
    },
    {
      "cell_type": "markdown",
      "metadata": {
        "id": "sYCPsOkV28cc"
      },
      "source": [
        "### Test (20 news groups) (informal)"
      ]
    },
    {
      "cell_type": "code",
      "execution_count": null,
      "metadata": {
        "id": "_Y77AYrIq0kn"
      },
      "outputs": [],
      "source": [
        "#manually experimented different vectorizers\n",
        "tfidfvect = TfidfVectorizer(stop_words='english', max_df=0.8, min_df=2, tokenizer=lemmaTokenizer)\n",
        "xtrain = tfidfvect.fit_transform(x_twenty_train).toarray()\n",
        "xtest = tfidfvect.transform(x_twenty_test).toarray()"
      ]
    },
    {
      "cell_type": "code",
      "execution_count": null,
      "metadata": {
        "id": "2PfZcNXrnNjs"
      },
      "outputs": [],
      "source": [
        "GNB = GaussianNaiveBayes()\n",
        "y_pred = GNB.fit(xtrain, np.array(y_twenty_train)).predict(xtest)"
      ]
    },
    {
      "cell_type": "code",
      "execution_count": null,
      "metadata": {
        "id": "-4O-EVRa7Uqo"
      },
      "outputs": [],
      "source": [
        "accuracy = np.sum(y_pred == y_twenty_test)/y_pred.shape[0]"
      ]
    },
    {
      "cell_type": "code",
      "execution_count": null,
      "metadata": {
        "id": "srrfwEu11fl7"
      },
      "outputs": [],
      "source": [
        "accuracy"
      ]
    },
    {
      "cell_type": "markdown",
      "metadata": {
        "id": "STw5U6mS3E6u"
      },
      "source": [
        "### Test (140 sentiments) (informal)"
      ]
    },
    {
      "cell_type": "code",
      "execution_count": null,
      "metadata": {
        "id": "Ng-H2G0y5TGq"
      },
      "outputs": [],
      "source": [
        "tfidfvect = TfidfVectorizer(stop_words='english', max_df=0.8, min_df=2, tokenizer=lemmaTokenizer)\n",
        "xtrain = tfidfvect.fit_transform(traindf['text']).toarray()\n",
        "xtest = tfidfvect.transform(testdf['text']).toarray()"
      ]
    },
    {
      "cell_type": "code",
      "execution_count": null,
      "metadata": {
        "id": "voJosdph5cmc"
      },
      "outputs": [],
      "source": [
        "GNB = GaussianNaiveBayes()\n",
        "y_pred = GNB.fit(xtrain, np.array(traindf['class'])).predict(xtest)"
      ]
    },
    {
      "cell_type": "code",
      "execution_count": null,
      "metadata": {
        "id": "m65qwDWS5lK1"
      },
      "outputs": [],
      "source": [
        "accuracy = np.sum(y_pred == testdf['class'])/y_pred.shape[0]\n",
        "accuracy"
      ]
    },
    {
      "cell_type": "markdown",
      "source": [
        "## Naive Bayes model selection"
      ],
      "metadata": {
        "id": "RRLwItBiXeEK"
      }
    },
    {
      "cell_type": "markdown",
      "source": [
        "### Multinomial"
      ],
      "metadata": {
        "id": "UJjlcJLCe5Mq"
      }
    },
    {
      "cell_type": "code",
      "source": [
        "# 140\n",
        "#Manually change the arguments of CountVectorizer() to test different vectorizers \n",
        "model = MultinomialNaiveBayes\n",
        "\n",
        "x_train = np.array(traindf['text'])\n",
        "acc = kfoldCV_mod(model(), x_train, np.array(traindf['class']), 5, \n",
        "              CountVectorizer(), seed=9999)\n",
        "\n",
        "print(f'validation acc: {acc}')"
      ],
      "metadata": {
        "id": "jbjX0C8AXiyJ",
        "colab": {
          "base_uri": "https://localhost:8080/"
        },
        "outputId": "b397fd93-2886-432c-cc44-60691c3053d7"
      },
      "execution_count": null,
      "outputs": [
        {
          "output_type": "stream",
          "name": "stdout",
          "text": [
            "validation acc: 0.7301\n"
          ]
        }
      ]
    },
    {
      "cell_type": "markdown",
      "source": [
        "CountVectorizer(), validation acc: 0.7301"
      ],
      "metadata": {
        "id": "P8wWCA2DQ_fo"
      }
    },
    {
      "cell_type": "code",
      "source": [
        "# 20\n",
        "model = MultinomialNaiveBayes\n",
        "\n",
        "x_train = np.array(x_twenty_train)\n",
        "acc = kfoldCV_mod(model(), x_train, np.array(y_twenty_train), 5, \n",
        "              CountVectorizer(stop_words='english'), seed=9999)\n",
        "\n",
        "print(f'validation acc: {acc}')"
      ],
      "metadata": {
        "id": "o_M4OwYUmOBG",
        "colab": {
          "base_uri": "https://localhost:8080/"
        },
        "outputId": "e2494b31-ef5c-4e12-d8ca-961ccc99982f"
      },
      "execution_count": null,
      "outputs": [
        {
          "output_type": "stream",
          "name": "stderr",
          "text": [
            "/home/lanxi/.local/lib/python3.6/site-packages/ipykernel_launcher.py:36: RuntimeWarning: divide by zero encountered in log\n",
            "/home/lanxi/.local/lib/python3.6/site-packages/ipykernel_launcher.py:28: RuntimeWarning: invalid value encountered in subtract\n"
          ]
        },
        {
          "output_type": "stream",
          "name": "stdout",
          "text": [
            "validation acc: 0.6700554376267116\n"
          ]
        }
      ]
    },
    {
      "cell_type": "markdown",
      "source": [
        "CountVectorizer(stop_words='english') acc: 0.67"
      ],
      "metadata": {
        "id": "7tUR4nfoRJZ9"
      }
    },
    {
      "cell_type": "markdown",
      "source": [
        "### Gaussian"
      ],
      "metadata": {
        "id": "IbPBo4Que86v"
      }
    },
    {
      "cell_type": "code",
      "source": [
        "# 140\n",
        "besti = 0\n",
        "max_acc = 0\n",
        "\n",
        "for i in range(len(vects)):\n",
        "  clf = Pipeline([\n",
        "    ('vect', vects[i]),\n",
        "    ('tfidf', TfidfTransformer()),\n",
        "    ('clf', GaussianNaiveBayes()),\n",
        "  ])\n",
        "  acc = kfoldCV(clf, np.array(traindf['text']), np.array(traindf['class']), 5, seed=9999)\n",
        "  \n",
        "  if acc > max_acc:\n",
        "      besti = i\n",
        "      max_acc = acc\n",
        "  \n",
        "\n",
        "print(f'best params: vectorizer: {vects[besti]}\\nvalidation acc: {acc}')"
      ],
      "metadata": {
        "id": "SG9mnYJ-9_YT"
      },
      "execution_count": null,
      "outputs": []
    },
    {
      "cell_type": "markdown",
      "source": [
        "final:\\\n",
        "best params: vectorizer: CountVectorizer(stop_words='english')\\\n",
        "validation acc: 0.592"
      ],
      "metadata": {
        "id": "-7Y4kKQ0Zh1b"
      }
    },
    {
      "cell_type": "code",
      "source": [
        "# 20\n",
        "besti = 0\n",
        "max_acc = 0\n",
        "\n",
        "for i in range(len(vects)):\n",
        "  clf = Pipeline([\n",
        "    ('vect', vects[i]),\n",
        "    ('tfidf', TfidfTransformer()),\n",
        "    ('clf', GaussianNaiveBayes()),\n",
        "  ])\n",
        "  acc = kfoldCV(clf, np.array(x_twenty_train), np.array(y_twenty_train), 5, seed=9999)\n",
        "  \n",
        "  if acc > max_acc:\n",
        "      besti = i\n",
        "      max_acc = acc\n",
        "  \n",
        "\n",
        "print(f'best params: vectorizer: {vects[besti]}\\nvalidation acc: {max_acc}')"
      ],
      "metadata": {
        "id": "CM2TfoFPAVPg"
      },
      "execution_count": null,
      "outputs": []
    },
    {
      "cell_type": "markdown",
      "source": [
        "final:\\\n",
        "best params: vectorizer: CountVectorizer(stop_words='english')\\\n",
        "validation acc: 0.6314289029726273"
      ],
      "metadata": {
        "id": "5R310Q54JBf6"
      }
    },
    {
      "cell_type": "markdown",
      "metadata": {
        "id": "muoZXuqXuFFc"
      },
      "source": [
        "# Accuracy & Training set size"
      ]
    },
    {
      "cell_type": "code",
      "source": [
        "def trainsize(xtrain, xtest, ytrain, ytest, model):\n",
        "\n",
        "    #randomly select part of the training set\n",
        "\n",
        "    train_size = xtrain.shape[0]\n",
        "    sizes = np.array([.2,.4,.6,.8, 1.])\n",
        "    inds = np.random.RandomState(1234).permutation(train_size)\n",
        "    cutoffs = np.floor(sizes*train_size).astype(int)\n",
        "\n",
        "    accs = np.zeros(sizes.shape[0])\n",
        "\n",
        "    for i,n in enumerate(cutoffs):\n",
        "        xsub = xtrain[inds[:n]]\n",
        "        ysub = ytrain[inds[:n]]\n",
        "\n",
        "        #for multinomialNB 20NG only\n",
        "        \"\"\"\n",
        "        y_pred = np.array([])\n",
        "        testsize = len(xtest)\n",
        "        splitindices = np.arange(0,testsize,100)\n",
        "        splitindices = np.append(splitindices,None)\n",
        "\n",
        "        for j,ind in enumerate(splitindices[:-1]):\n",
        "            y_pred = np.append(y_pred, model.fit(xsub, ysub).predict(xtest[ind:splitindices[j+1]]))\n",
        "\n",
        "        \"\"\"\n",
        "\n",
        "        y_pred = model.fit(xsub,np.array(ysub)).predict(xtest)\n",
        "\n",
        "        accs[i] = evaluate_acc(ytest,y_pred)\n",
        "    \n",
        "    return(accs)"
      ],
      "metadata": {
        "id": "-KkRCFZg6e0J"
      },
      "execution_count": null,
      "outputs": []
    },
    {
      "cell_type": "code",
      "source": [
        "clf = Pipeline([\n",
        "    ('vect', CountVectorizer()),\n",
        "    ('tfidf', TfidfTransformer()),\n",
        "    ('clf', LogisticRegression(multi_class = 'multinomial', random_state=999, C=1, solver='saga'))\n",
        "  ])"
      ],
      "metadata": {
        "id": "PxNP5ifRbC4K"
      },
      "execution_count": null,
      "outputs": []
    },
    {
      "cell_type": "code",
      "source": [
        "print(trainsize(np.array(traindf['text']),np.array(testdf['text']),np.array(traindf['class']),np.array(testdf['class']),clf))"
      ],
      "metadata": {
        "colab": {
          "base_uri": "https://localhost:8080/"
        },
        "id": "XcqvooW0aFTw",
        "outputId": "30829978-1a74-48a1-8084-280a4fc9514f"
      },
      "execution_count": null,
      "outputs": [
        {
          "output_type": "stream",
          "name": "stdout",
          "text": [
            "[0.67688022 0.69359331 0.71587744 0.71866295 0.72980501]\n"
          ]
        }
      ]
    },
    {
      "cell_type": "markdown",
      "source": [
        "LR 140: [0.67688022 0.69359331 0.71587744 0.71866295 0.72980501]"
      ],
      "metadata": {
        "id": "rTDS-wedbkR9"
      }
    },
    {
      "cell_type": "code",
      "source": [
        "clf = Pipeline([\n",
        "    ('vect', swvect),\n",
        "    ('tfidf', TfidfTransformer()),\n",
        "    ('clf', LogisticRegression(multi_class = 'multinomial', random_state=999, C=10, solver='newton-cg'))\n",
        "  ])\n",
        "print(trainsize(np.array(x_twenty_train),np.array(x_twenty_test),np.array(y_twenty_train),np.array(y_twenty_test),clf))"
      ],
      "metadata": {
        "colab": {
          "base_uri": "https://localhost:8080/"
        },
        "id": "lEaUizpubqcU",
        "outputId": "f873aee0-bbaf-486c-8f03-f1724d76455d"
      },
      "execution_count": null,
      "outputs": [
        {
          "output_type": "stream",
          "name": "stdout",
          "text": [
            "[0.62201275 0.64843335 0.66622411 0.67976633]\n"
          ]
        }
      ]
    },
    {
      "cell_type": "markdown",
      "source": [
        "LR 20: [0.62201275 0.64843335 0.66622411 0.67976633 0.69105151]"
      ],
      "metadata": {
        "id": "gc7D7wv1fw5T"
      }
    },
    {
      "cell_type": "markdown",
      "source": [
        "NB 20: [0.48353691 0.53571429 0.57580988 0.6133829 0.63276686]"
      ],
      "metadata": {
        "id": "xpne1sjMZ8K1"
      }
    },
    {
      "cell_type": "markdown",
      "source": [
        "NB 140: [0.67688022 0.68523677 0.71309192 0.71866295 0.73537604]"
      ],
      "metadata": {
        "id": "D6sGl2ijfg6M"
      }
    },
    {
      "cell_type": "code",
      "source": [
        "LR_140 = [0.67688022, 0.69359331, 0.71587744, 0.71866295, 0.72980501]\n",
        "LR_20 = [0.62201275, 0.64843335, 0.66622411, 0.67976633, 0.69105151]\n",
        "NB_20 = [0.48353691, 0.53571429, 0.57580988, 0.6133829, 0.63276686]\n",
        "NB_140 = [0.67688022, 0.68523677, 0.71309192, 0.71866295, 0.73537604]"
      ],
      "metadata": {
        "id": "4sZxr_hNgBJf"
      },
      "execution_count": null,
      "outputs": []
    },
    {
      "cell_type": "code",
      "execution_count": null,
      "metadata": {
        "id": "l70oqxC-uOup",
        "colab": {
          "base_uri": "https://localhost:8080/",
          "height": 298
        },
        "outputId": "5c00f006-d33c-46d1-dfc3-621d7d2ab679"
      },
      "outputs": [
        {
          "output_type": "display_data",
          "data": {
            "image/png": "[encoded data removed]",
            "text/plain": [
              "<Figure size 432x288 with 1 Axes>"
            ]
          },
          "metadata": {
            "needs_background": "light"
          }
        }
      ],
      "source": [
        "plt.figure()\n",
        "\n",
        "plt.plot([.2,.4,.6,.8, 1.], LR_140, '.-', label = 'Logistic Regression')\n",
        "plt.plot([.2,.4,.6,.8, 1.], NB_140, '.-', label = 'Multinomial Naive Bayes')\n",
        "\n",
        "\n",
        "plt.xlabel('Training set size',fontsize=12)\n",
        "plt.ylabel('Accuracy',fontsize=12)\n",
        "plt.title('S140: Accuracy vs. Training set size',fontsize=12)\n",
        "\n",
        "plt.legend(loc='lower right')\n",
        "plt.savefig('S140Trainsize.png',bbox_inches='tight')\n",
        "plt.show()   "
      ]
    },
    {
      "cell_type": "code",
      "execution_count": null,
      "metadata": {
        "id": "VMTMgL401TKa",
        "colab": {
          "base_uri": "https://localhost:8080/",
          "height": 298
        },
        "outputId": "feecd63b-a844-4782-afbe-17bb26a2cc3c"
      },
      "outputs": [
        {
          "output_type": "display_data",
          "data": {
            "image/png": "[encoded data removed]",
            "text/plain": [
              "<Figure size 432x288 with 1 Axes>"
            ]
          },
          "metadata": {
            "needs_background": "light"
          }
        }
      ],
      "source": [
        "plt.figure()\n",
        "\n",
        "plt.plot([.2,.4,.6,.8, 1.], LR_20, '.-', label = 'Logistic Regression')\n",
        "plt.plot([.2,.4,.6,.8, 1.], NB_20, '.-', label = 'Multinomial Naive Bayes')\n",
        "\n",
        "\n",
        "plt.xlabel('Training set size',fontsize=12)\n",
        "plt.ylabel('Accuracy',fontsize=12)\n",
        "plt.title('20NG: Accuracy vs. Training set size',fontsize=12)\n",
        "\n",
        "plt.legend()\n",
        "plt.savefig('20NGTrainsize.png',bbox_inches='tight')\n",
        "plt.show()   "
      ]
    },
    {
      "cell_type": "code",
      "source": [
        ""
      ],
      "metadata": {
        "id": "_NJ-nZjxByYv"
      },
      "execution_count": null,
      "outputs": []
    }
  ],
  "metadata": {
    "colab": {
      "collapsed_sections": [],
      "name": "miniproject2.ipynb",
      "provenance": []
    },
    "kernelspec": {
      "display_name": "Python 3",
      "name": "python3"
    },
    "language_info": {
      "name": "python"
    }
  },
  "nbformat": 4,
  "nbformat_minor": 0
}